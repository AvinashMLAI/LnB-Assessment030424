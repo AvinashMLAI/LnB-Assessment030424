{
  "nbformat": 4,
  "nbformat_minor": 0,
  "metadata": {
    "colab": {
      "provenance": [],
      "toc_visible": true
    },
    "kernelspec": {
      "name": "python3",
      "display_name": "Python 3"
    },
    "language_info": {
      "name": "python"
    }
  },
  "cells": [
    {
      "cell_type": "markdown",
      "source": [
        "Question 1"
      ],
      "metadata": {
        "id": "on-lcZpGe8B0"
      }
    },
    {
      "cell_type": "code",
      "execution_count": 3,
      "metadata": {
        "colab": {
          "base_uri": "https://localhost:8080/"
        },
        "id": "C6W9rNuAeUut",
        "outputId": "b9343d26-1ad5-4a3c-cc46-e8f6ca137fa4"
      },
      "outputs": [
        {
          "output_type": "stream",
          "name": "stdout",
          "text": [
            "[2, 4, 6, 8, 10]\n"
          ]
        }
      ],
      "source": [
        "list = [1, 2, 3, 4, 5, 6, 7, 8, 9, 10]\n",
        "even_numbers = [num for num in list if num % 2 == 0]\n",
        "print(even_numbers)"
      ]
    },
    {
      "cell_type": "markdown",
      "source": [
        "Question 2"
      ],
      "metadata": {
        "id": "PcFWo5V6fAbX"
      }
    },
    {
      "cell_type": "code",
      "source": [
        "class Person:\n",
        "    def __init__(self, name, age, gender):\n",
        "        self.name = name\n",
        "        self.age = age\n",
        "        self.gender = gender\n",
        "\n",
        "    def __str__(self):\n",
        "        return f\"Name: {self.name}, Age: {self.age}, Gender: {self.gender}\"\n",
        "\n",
        "\n",
        "person1 = Person(\"Alice\", 30, \"Female\")\n",
        "person2 = Person(\"Bob\", 25, \"Male\")\n",
        "\n",
        "print(person1)\n",
        "print(person2)\n"
      ],
      "metadata": {
        "colab": {
          "base_uri": "https://localhost:8080/"
        },
        "id": "pj1vm2jdfDo5",
        "outputId": "09b53e31-eb16-4b4c-9007-d081dbd38a46"
      },
      "execution_count": 4,
      "outputs": [
        {
          "output_type": "stream",
          "name": "stdout",
          "text": [
            "Name: Alice, Age: 30, Gender: Female\n",
            "Name: Bob, Age: 25, Gender: Male\n"
          ]
        }
      ]
    },
    {
      "cell_type": "markdown",
      "source": [
        "Question 3"
      ],
      "metadata": {
        "id": "IyygRv9pfzt3"
      }
    },
    {
      "cell_type": "code",
      "source": [],
      "metadata": {
        "id": "6wZmgYKtgmFL"
      },
      "execution_count": null,
      "outputs": []
    },
    {
      "cell_type": "markdown",
      "source": [
        "Question 4"
      ],
      "metadata": {
        "id": "_W5kNMwYgmXT"
      }
    },
    {
      "cell_type": "code",
      "source": [
        "my_list = ['apple', 'banana', 'cherry', 'date']\n",
        "\n",
        "sorted_list = sorted(my_list, key=lambda x: len(x))\n",
        "\n",
        "print(sorted_list)\n"
      ],
      "metadata": {
        "colab": {
          "base_uri": "https://localhost:8080/"
        },
        "id": "gMBz7T7hgn7o",
        "outputId": "90b0cefa-723f-4765-a9b8-cb1f7c6b84c8"
      },
      "execution_count": 6,
      "outputs": [
        {
          "output_type": "stream",
          "name": "stdout",
          "text": [
            "['date', 'apple', 'banana', 'cherry']\n"
          ]
        }
      ]
    },
    {
      "cell_type": "markdown",
      "source": [
        "Question 5"
      ],
      "metadata": {
        "id": "k3a0oDY5g7-o"
      }
    },
    {
      "cell_type": "code",
      "source": [
        "class Vehicle:\n",
        "    def drive(self):\n",
        "        print(\"Driving a vehicle.\")\n",
        "\n",
        "class Car(Vehicle):\n",
        "    def drive(self):\n",
        "        print(\"Driving a car.\")\n",
        "\n",
        "class Truck(Vehicle):\n",
        "    def drive(self):\n",
        "        print(\"Driving a truck.\")\n",
        "\n",
        "class Motorcycle(Vehicle):\n",
        "    def drive(self):\n",
        "        print(\"Riding a motorcycle.\")\n",
        "\n",
        "vehicle = Vehicle()\n",
        "car = Car()\n",
        "truck = Truck()\n",
        "motorcycle = Motorcycle()\n",
        "\n",
        "vehicle.drive()\n",
        "car.drive()\n",
        "truck.drive()\n",
        "motorcycle.drive()\n"
      ],
      "metadata": {
        "colab": {
          "base_uri": "https://localhost:8080/"
        },
        "id": "ISi8n4Vxg7bv",
        "outputId": "f9123e0f-ff7b-42e1-fb1d-63d44ccdec60"
      },
      "execution_count": 7,
      "outputs": [
        {
          "output_type": "stream",
          "name": "stdout",
          "text": [
            "Driving a vehicle.\n",
            "Driving a car.\n",
            "Driving a truck.\n",
            "Riding a motorcycle.\n"
          ]
        }
      ]
    }
  ]
}